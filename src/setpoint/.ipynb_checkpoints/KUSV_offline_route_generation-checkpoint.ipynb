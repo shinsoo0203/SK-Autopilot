{
 "cells": [
  {
   "cell_type": "markdown",
   "metadata": {},
   "source": [
    "# KUSV offline route generation\n",
    "\n",
    "## Author\n",
    "Kichun Jo | kichun@konkuk.ac.kr | 2019-08-15 Creation\n",
    "\n",
    "## Objective\n",
    "Smooth route generation for KUSV test and simualtion\n",
    "\n",
    "## Software procedure\n",
    "1. Configuration and import\n",
    "2. Import OSM file\n",
    "    - import osm file\n",
    "    - filtering data\n",
    "3. Route generation with B-spline interpolation\n",
    "    - Coordinate conversion (WGS84 -> ENU)\n",
    "    - B-spline interpolation\n",
    "    - Coordinate conversion (ENU -> WGS84)\n",
    "4. Export OSM file\n",
    "    - export osm file\n"
   ]
  },
  {
   "cell_type": "markdown",
   "metadata": {},
   "source": [
    "## 1. Configuration and import"
   ]
  },
  {
   "cell_type": "markdown",
   "metadata": {},
   "source": [
    "### Import"
   ]
  },
  {
   "cell_type": "code",
   "execution_count": 1,
   "metadata": {},
   "outputs": [],
   "source": [
    "# System\n",
    "import sys\n",
    "\n",
    "# date time\n",
    "from datetime import datetime\n",
    "\n",
    "# Dialogs\n",
    "import tkinter as tk\n",
    "from tkinter import filedialog\n",
    "\n",
    "# XML \n",
    "import xml.etree.ElementTree as ET\n",
    "\n",
    "# Numerical operations\n",
    "import numpy as np\n",
    "import scipy.interpolate as inter\n",
    "from scipy.ndimage.filters import gaussian_filter\n",
    "\n",
    "# Plot\n",
    "import matplotlib\n",
    "import matplotlib.pyplot as plt"
   ]
  },
  {
   "cell_type": "markdown",
   "metadata": {},
   "source": [
    "### Configuration\n",
    "Change the configuration of SW, such as debugging option, smoothing option, and expoer option. "
   ]
  },
  {
   "cell_type": "code",
   "execution_count": 2,
   "metadata": {},
   "outputs": [
    {
     "name": "stdout",
     "output_type": "stream",
     "text": [
      "What's the maximum tolerance (default = 0.1) from raw geometry to smoothing geometry? 0.1\n",
      "What's the resampling distance? 0.1\n"
     ]
    }
   ],
   "source": [
    "# 1. Import OSM\n",
    "bCfg_ImportDebug = True # debug info. on/off\n",
    "\n",
    "\n",
    "# 2. Smoothing \n",
    "bCfg_SmoothingDebug = True # debug info. on/off\n",
    "\n",
    "cfg_geometry_smoothing_max_tolerance = 0.1\n",
    "tmp_max_tolerance = input(\"What's the maximum tolerance (default = 0.1) from raw geometry to smoothing geometry? \")\n",
    "if tmp_max_tolerance != '':\n",
    "    try:\n",
    "        cfg_geometry_smoothing_max_tolerance = float(tmp_max_tolerance)\n",
    "    except:        \n",
    "        print('cfg_geometry_smoothing_max_tolerance = 0.1')\n",
    "else:\n",
    "    print('default: cfg_geometry_smoothing_max_tolerance = 0.1')\n",
    "\n",
    "cfg_geometry_smoothing_improve_rate = 0.1 # [0 1]\n",
    "\n",
    "cfg_route_resample_dist = 0.3\n",
    "tmp_tmp_kernel_size = input(\"What's the resampling distance? \")\n",
    "if tmp_tmp_kernel_size != '':\n",
    "    try:\n",
    "        cfg_route_resample_dist = float(tmp_tmp_kernel_size)\n",
    "    except:        \n",
    "        print('tmp_tmp_kernel_size = ', cfg_route_resample_dist)\n",
    "else:\n",
    "    print('default: tmp_kernel_size = ', cfg_route_resample_dist)\n",
    "    \n",
    "\n",
    "# 3. Export OSM\n",
    "bCfg_ExportDebug = True # debug info. on/off\n",
    "bCfg_is_export_heading_curvature_info = True"
   ]
  },
  {
   "cell_type": "markdown",
   "metadata": {},
   "source": [
    "## 2. Import OSM file"
   ]
  },
  {
   "cell_type": "markdown",
   "metadata": {},
   "source": [
    "### Import and export folder configuration"
   ]
  },
  {
   "cell_type": "code",
   "execution_count": 3,
   "metadata": {},
   "outputs": [
    {
     "name": "stdout",
     "output_type": "stream",
     "text": [
      "('[1. OSM Import] Import file: ', '/home/lke/SK-Autopilot/src/setpoint/osmfiles/konkuk_wp.osm')\n",
      "('[1. OSM Import] Expected Export file: ', '/home/lke/SK-Autopilot/src/setpoint/osmfiles/konkuk_wp_20191810_124227_route_gen.osm')\n"
     ]
    }
   ],
   "source": [
    "# Input output folder path\n",
    "InputOsmPath = ''\n",
    "root_tk = tk.Tk()\n",
    "root_tk.withdraw()\n",
    "\n",
    "InputOsmPath = filedialog.askopenfilename(filetypes =((\"osm File\", \"*.osm\"),(\"All Files\",\"*.*\")),\n",
    "                                          title = \"Choose a file.\"\n",
    "                                          )\n",
    "if InputOsmPath == '':\n",
    "    sys.exit(\"[1. OSM Import] No import file!\")\n",
    "\n",
    "# Output folder path\n",
    "cuurent_date_time = datetime.now() # current date and time\n",
    "str_cuurent_date_time = cuurent_date_time.strftime(\"%Y%d%m_%H%M%S\")\n",
    "\n",
    "OutputOsmPath = ''\n",
    "if InputOsmPath.endswith('.osm'):\n",
    "    OutputOsmPath = InputOsmPath.replace('.osm','_' + str_cuurent_date_time + '_route_gen.osm')\n",
    "else:\n",
    "    OutputOsmPath = [InputOsmPath,'_'+str_cuurent_date_time+'_route_gen.osm']\n",
    "\n",
    "# Debug display\n",
    "if bCfg_ImportDebug:\n",
    "    print('[1. OSM Import] Import file: ', InputOsmPath)\n",
    "    print('[1. OSM Import] Expected Export file: ', OutputOsmPath)"
   ]
  },
  {
   "cell_type": "markdown",
   "metadata": {},
   "source": [
    "### Parse osm xml file"
   ]
  },
  {
   "cell_type": "code",
   "execution_count": 4,
   "metadata": {},
   "outputs": [
    {
     "name": "stdout",
     "output_type": "stream",
     "text": [
      "[1. OSM Import] Import xml file\n"
     ]
    }
   ],
   "source": [
    "# Parse osm xml file\n",
    "if bCfg_ImportDebug:\n",
    "    print('[1. OSM Import] Import xml file')\n",
    "\n",
    "tree_import = ET.parse(InputOsmPath)\n",
    "root_import = tree_import.getroot()"
   ]
  },
  {
   "cell_type": "markdown",
   "metadata": {},
   "source": [
    "### Filtering and error check"
   ]
  },
  {
   "cell_type": "code",
   "execution_count": 5,
   "metadata": {},
   "outputs": [
    {
     "name": "stdout",
     "output_type": "stream",
     "text": [
      "[1. OSM Import] Filtering and error check\n",
      "('NumOfNode: ', 30)\n",
      "('NumOfWay: ', 1)\n",
      "('NumOfDelElement: ', 31)\n"
     ]
    }
   ],
   "source": [
    "# Filtering and error check\n",
    "if bCfg_ImportDebug:\n",
    "    print('[1. OSM Import] Filtering and error check')\n",
    "\n",
    "NumOfNode = 0\n",
    "NumOfWay = 0\n",
    "NumOfDelElement = 0\n",
    "\n",
    "for element_1st in root_import:\n",
    "    # Counting\n",
    "    if element_1st.tag == 'node':\n",
    "        NumOfNode = NumOfNode + 1\n",
    "    elif element_1st.tag == 'way':\n",
    "        NumOfWay = NumOfWay + 1          \n",
    "        \n",
    "    # Get child attributes\n",
    "    strActionValue = element_1st.attrib.get('action')\n",
    "    \n",
    "    # Delete the attributes of actions\n",
    "    if strActionValue != None:\n",
    "        del element_1st.attrib['action']\n",
    "        NumOfDelElement = NumOfDelElement + 1\n",
    "        \n",
    "    # Delete the element with action = delete\n",
    "    if strActionValue=='delete':\n",
    "        root_import.remove(element_1st)\n",
    "        if bCfg_ImportDebug == True:\n",
    "            print(element_1st.tag, element_1st.attrib, ' are deleted') \n",
    "\n",
    "# Debug display\n",
    "if bCfg_ImportDebug == True:\n",
    "    print('NumOfNode: ', NumOfNode)\n",
    "    print('NumOfWay: ', NumOfWay)\n",
    "    print('NumOfDelElement: ', NumOfDelElement)\n",
    "\n",
    "if NumOfWay > 1 and NumOfNode <= 2:\n",
    "    sys.exit(\"[1. OSM Import] This version cannot handle multiple way osm!\")"
   ]
  },
  {
   "cell_type": "markdown",
   "metadata": {},
   "source": [
    "### Construction of Node dictionary"
   ]
  },
  {
   "cell_type": "code",
   "execution_count": 6,
   "metadata": {},
   "outputs": [
    {
     "name": "stdout",
     "output_type": "stream",
     "text": [
      "[1. OSM Import] Construction of node dictionary and way list\n"
     ]
    }
   ],
   "source": [
    "# Construction of Node dictionary\n",
    "if bCfg_ImportDebug:\n",
    "    print('[1. OSM Import] Construction of node dictionary and way list')\n",
    "\n",
    "DictNodes = dict()\n",
    "for node_element in root_import.iter('node'):\n",
    "    tmp_node_id = node_element.attrib['id']\n",
    "    tmp_node_lat = node_element.attrib['lat']\n",
    "    tmp_node_lon = node_element.attrib['lon']    \n",
    "    DictNodes[tmp_node_id]=[tmp_node_lat, tmp_node_lon]\n",
    "\n",
    "# Construction of lists for calculation\n",
    "ListLatLon = []\n",
    "for way_element in root_import.iter('way'):\n",
    "    for nodes_in_way in way_element.iter('nd'):        \n",
    "        tmp_node_in_way_attrib_ref = DictNodes[nodes_in_way.attrib['ref']]\n",
    "        ListLatLon.append([float(tmp_node_in_way_attrib_ref[0]), float(tmp_node_in_way_attrib_ref[1])])  "
   ]
  },
  {
   "cell_type": "markdown",
   "metadata": {},
   "source": [
    "## 3. Route generation with B-spline interpolation"
   ]
  },
  {
   "cell_type": "markdown",
   "metadata": {},
   "source": [
    "### Functions of coorindate conversion"
   ]
  },
  {
   "cell_type": "code",
   "execution_count": 7,
   "metadata": {},
   "outputs": [],
   "source": [
    "# Functions of coorindate conversion\n",
    "def lengthOfDegreeLatitude(ref_latitude_deg):\n",
    "    # Convert latitude to radians\n",
    "    ref_latitude_rad = float(ref_latitude_deg) * np.pi / 180.\n",
    "\n",
    "    # Set up \"Constants\"\n",
    "    m1 = 111132.92 # Latitude calculation term 1\n",
    "    m2 = -559.82 # Latitude calculation term 2\n",
    "    m3 = 1.175 # Latitude calculation term 3\n",
    "    m4 = -0.0023 # Latitude calculation term 4\n",
    "\n",
    "    # Calculate the length of a degree of latitude and longitude in meters\n",
    "    return m1 + (m2 * np.cos(2 * ref_latitude_rad)) \n",
    "    + (m3 * np.cos(4 * ref_latitude_rad))\n",
    "    + (m4 * np.cos(6 * ref_latitude_rad))\n",
    "\n",
    "def lengthOfDegreeLongitude(ref_latitude_deg):\n",
    "    # Convert latitude to radians\n",
    "    ref_latitude_rad = float(ref_latitude_deg) * np.pi / 180.\n",
    "\n",
    "    # Set up \"Constants\"\n",
    "    p1 = 111412.84 # Longitude calculation term 1\n",
    "    p2 = -93.5 # Longitude calculation term 2\n",
    "    p3 = 0.118 # Longitude calculation term 3\n",
    "\n",
    "    # Calculate the length of a degree of latitude and longitude in meters\n",
    "    return (p1 * np.cos(ref_latitude_rad)) \n",
    "    + (p2 * np.cos(3 * ref_latitude_rad))\n",
    "    + (p3 * np.cos(5 * ref_latitude_rad))\n",
    "    \n",
    "def wgs84ToCartesian( geopoint_ref, geopoint ):\n",
    "    # geopoint_ref: [latitude, longitude] list for origin points\n",
    "    # geopoint: [latitude, longitude] list\n",
    "    # return: [east, north]\n",
    "    east = (geopoint[1] - geopoint_ref[1])*lengthOfDegreeLongitude(geopoint_ref[0])\n",
    "    north = (geopoint[0] - geopoint_ref[0])*lengthOfDegreeLatitude(geopoint_ref[0])\n",
    "    return [east, north]\n",
    "\n",
    "def cartesianToWgs84( geopoint_ref, enupoint ):\n",
    "    # geopoint_ref: [latitude, longitude] list for origin points\n",
    "    # enupoint: [east, north] list        \n",
    "    latitude = geopoint_ref[0] + enupoint[1]/lengthOfDegreeLatitude(geopoint_ref[0])\n",
    "    longitude = geopoint_ref[1] + enupoint[0]/lengthOfDegreeLongitude(geopoint_ref[0])\n",
    "    return [latitude, longitude]"
   ]
  },
  {
   "cell_type": "markdown",
   "metadata": {},
   "source": [
    "### Coordinate conversion (WGS84 -> ENU)"
   ]
  },
  {
   "cell_type": "code",
   "execution_count": 8,
   "metadata": {
    "scrolled": true
   },
   "outputs": [
    {
     "name": "stdout",
     "output_type": "stream",
     "text": [
      "[2. Smoothing] Coordinate conversion (WGS84 -> ENU)\n"
     ]
    }
   ],
   "source": [
    "# Coordinate conversion (WGS84 -> ENU)\n",
    "if bCfg_SmoothingDebug:\n",
    "    print('[2. Smoothing] Coordinate conversion (WGS84 -> ENU)')\n",
    "    \n",
    "ListEastNorth = list(ListLatLon)\n",
    "RefLatLon = ListLatLon[0]\n",
    "for index, iterLatLon in enumerate(ListLatLon):\n",
    "    ListEastNorth[index] = wgs84ToCartesian(RefLatLon,iterLatLon)"
   ]
  },
  {
   "cell_type": "markdown",
   "metadata": {},
   "source": [
    "### Numpy array conversion"
   ]
  },
  {
   "cell_type": "code",
   "execution_count": 9,
   "metadata": {},
   "outputs": [
    {
     "name": "stdout",
     "output_type": "stream",
     "text": [
      "[2. Smoothing] Construction of node dictionary and way np array\n"
     ]
    }
   ],
   "source": [
    "# Numpy array conversion    \n",
    "if bCfg_SmoothingDebug:\n",
    "    print('[2. Smoothing] Construction of node dictionary and way np array')\n",
    "\n",
    "arrayEastNorth = np.asarray(ListEastNorth, dtype=np.float64)"
   ]
  },
  {
   "cell_type": "markdown",
   "metadata": {},
   "source": [
    "### Arc-length calculation"
   ]
  },
  {
   "cell_type": "code",
   "execution_count": 10,
   "metadata": {},
   "outputs": [
    {
     "name": "stdout",
     "output_type": "stream",
     "text": [
      "[2. Smoothing] Arc length calculation\n"
     ]
    }
   ],
   "source": [
    "# Arc-length calculation\n",
    "if bCfg_SmoothingDebug:\n",
    "    print('[2. Smoothing] Arc length calculation')\n",
    "\n",
    "arrayArclength = np.zeros(arrayEastNorth.shape[0])\n",
    "arrayDiffEastNorthSquare = np.diff(arrayEastNorth, n=1, axis=0)**2\n",
    "arrayDistance = np.sqrt(np.sum(arrayDiffEastNorthSquare, axis=1))\n",
    "arrayCumDistance = np.cumsum(arrayDistance)\n",
    "arrayArclength[1:] = arrayCumDistance[:]\n",
    "\n",
    "# Arc length array resampling\n",
    "arrayResampleArclength = np.arange(arrayArclength[0], arrayArclength[-1], cfg_route_resample_dist)"
   ]
  },
  {
   "cell_type": "markdown",
   "metadata": {},
   "source": [
    "### Route approximation based on incremental univariateSpline"
   ]
  },
  {
   "cell_type": "code",
   "execution_count": 11,
   "metadata": {},
   "outputs": [
    {
     "name": "stdout",
     "output_type": "stream",
     "text": [
      "[2. Smoothing] Route approximation based on incremental univariateSpline\n",
      "('Max Distance Error: ', 0.29293468075211343)\n",
      "('Max Distance Error: ', 0.2838255600843352)\n",
      "('Max Distance Error: ', 0.27161007721345803)\n",
      "('Max Distance Error: ', 0.19235405813749612)\n",
      "('Max Distance Error: ', 0.16716855110481116)\n",
      "('Max Distance Error: ', 0.16684842342600026)\n",
      "('Max Distance Error: ', 0.1734038538944178)\n",
      "('Max Distance Error: ', 0.11003371662070613)\n",
      "('Max Distance Error: ', 0.11561908561696382)\n",
      "('Max Distance Error: ', 0.11610620283004605)\n",
      "('Max Distance Error: ', 0.11451029225483961)\n",
      "('Max Distance Error: ', 0.1143174206236421)\n",
      "('Max Distance Error: ', 0.08253245689781585)\n",
      "('Average tolerance: ', 0.028242953648100012)\n"
     ]
    }
   ],
   "source": [
    "# Route smoothing based on univariateSpline\n",
    "if bCfg_SmoothingDebug:\n",
    "    print('[2. Smoothing] Route approximation based on incremental univariateSpline')\n",
    "\n",
    "# Spline generation\n",
    "avg_tolerance = cfg_geometry_smoothing_max_tolerance\n",
    "smoothParam = avg_tolerance**2*len(arrayArclength)\n",
    "splineSmoothEast = inter.UnivariateSpline (arrayArclength, arrayEastNorth[:,0], s=smoothParam)\n",
    "splineSmoothNorth = inter.UnivariateSpline (arrayArclength, arrayEastNorth[:,1], s=smoothParam)\n",
    "    \n",
    "# Iterative error evaluation and correction\n",
    "arraySmoothEastNorth = np.zeros(arrayEastNorth.shape)\n",
    "arraySmoothEastNorth[:,0] = splineSmoothEast(arrayArclength)\n",
    "arraySmoothEastNorth[:,1] = splineSmoothNorth(arrayArclength)\n",
    "arrayDistanceError = np.sqrt(np.sum((arrayEastNorth - arraySmoothEastNorth)**2, axis=1))\n",
    "maxDistError = np.max(arrayDistanceError)\n",
    "maxDistErrorIdx = np.argmax(arrayDistanceError)\n",
    "if bCfg_SmoothingDebug:\n",
    "    print('Max Distance Error: ', maxDistError)\n",
    "\n",
    "while maxDistError > cfg_geometry_smoothing_max_tolerance:    \n",
    "    avg_tolerance = avg_tolerance * (1. - cfg_geometry_smoothing_improve_rate)    \n",
    "    smoothParam = avg_tolerance**2*len(arrayArclength)\n",
    "\n",
    "    splineSmoothEast = inter.UnivariateSpline (arrayArclength, arrayEastNorth[:,0], s=smoothParam)\n",
    "    splineSmoothNorth = inter.UnivariateSpline (arrayArclength, arrayEastNorth[:,1], s=smoothParam)\n",
    "\n",
    "    arraySmoothEastNorth = np.zeros(arrayEastNorth.shape)\n",
    "    arraySmoothEastNorth[:,0] = splineSmoothEast(arrayArclength)\n",
    "    arraySmoothEastNorth[:,1] = splineSmoothNorth(arrayArclength)\n",
    "    arrayDistanceError = np.sqrt(np.sum((arrayEastNorth - arraySmoothEastNorth)**2, axis=1))\n",
    "    maxDistError = np.max(arrayDistanceError)\n",
    "    maxDistErrorIdx = np.argmax(arrayDistanceError)\n",
    "    if bCfg_SmoothingDebug:\n",
    "        print('Max Distance Error: ', maxDistError)\n",
    "\n",
    "if bCfg_SmoothingDebug:\n",
    "    print('Average tolerance: ', avg_tolerance)\n",
    "\n",
    "# Knots\n",
    "arrayKnotsEast = splineSmoothEast.get_knots()\n",
    "arrayKnotsNorth = splineSmoothNorth.get_knots()\n",
    "\n",
    "# Spline derivetive\n",
    "splineSmoothEastDer1 = splineSmoothEast.derivative(1)\n",
    "splineSmoothNorthDer1 = splineSmoothNorth.derivative(1)\n",
    "splineSmoothEastDer2 = splineSmoothEast.derivative(2)\n",
    "splineSmoothNorthDer2 = splineSmoothNorth.derivative(2)"
   ]
  },
  {
   "cell_type": "markdown",
   "metadata": {},
   "source": [
    "### Resampling"
   ]
  },
  {
   "cell_type": "code",
   "execution_count": 12,
   "metadata": {},
   "outputs": [
    {
     "name": "stdout",
     "output_type": "stream",
     "text": [
      "[2. Smoothing] Resampling\n"
     ]
    }
   ],
   "source": [
    "# Resampling\n",
    "if bCfg_SmoothingDebug:\n",
    "    print('[2. Smoothing] Resampling')\n",
    "\n",
    "arrayResampleEastNorth = np.zeros([len(arrayResampleArclength), 2])\n",
    "arrayResampleEastNorth[:,0] = splineSmoothEast(arrayResampleArclength)\n",
    "arrayResampleEastNorth[:,1] = splineSmoothNorth(arrayResampleArclength)\n",
    "\n",
    "arrayResampleEastNorthDer1 = np.zeros(arrayResampleEastNorth.shape)\n",
    "arrayResampleEastNorthDer1[:,0] = splineSmoothEastDer1(arrayResampleArclength)\n",
    "arrayResampleEastNorthDer1[:,1] = splineSmoothNorthDer1(arrayResampleArclength)\n",
    "\n",
    "arrayResampleEastNorthDer2 = np.zeros(arrayResampleEastNorth.shape)\n",
    "arrayResampleEastNorthDer2[:,0] = splineSmoothEastDer2(arrayResampleArclength)\n",
    "arrayResampleEastNorthDer2[:,1] = splineSmoothNorthDer2(arrayResampleArclength)\n",
    "\n",
    "# Smoothed Heading\n",
    "arrayResampleHeading = np.arctan2( arrayResampleEastNorthDer1[:,1], arrayResampleEastNorthDer1[:,0]) * 180. / np.pi - 90.\n",
    "arrayResampleHeading[arrayResampleHeading < 0] = arrayResampleHeading[arrayResampleHeading < 0] + 360.\n",
    "arrayResampleHeading[arrayResampleHeading > 360] = arrayResampleHeading[arrayResampleHeading > 360] - 360.\n",
    "\n",
    "# Smoothed Curvature\n",
    "arrayCurNumerator = arrayResampleEastNorthDer1[:,0]*arrayResampleEastNorthDer2[:,1] - arrayResampleEastNorthDer1[:,1]*arrayResampleEastNorthDer2[:,0]\n",
    "arrayCurDenominator = (arrayResampleEastNorthDer1[:,0]**2 + arrayResampleEastNorthDer1[:,1]**2)**1.5\n",
    "arrayResampleCurvature = arrayCurNumerator / arrayCurDenominator"
   ]
  },
  {
   "cell_type": "markdown",
   "metadata": {},
   "source": [
    "### Smoothing and resampling results"
   ]
  },
  {
   "cell_type": "code",
   "execution_count": 13,
   "metadata": {},
   "outputs": [
    {
     "data": {
      "image/png": "[encoded data removed]",
      "text/plain": [
       "<Figure size 432x288 with 1 Axes>"
      ]
     },
     "metadata": {
      "needs_background": "light"
     },
     "output_type": "display_data"
    }
   ],
   "source": [
    "# Analysis - Shape\n",
    "if bCfg_SmoothingDebug == True:\n",
    "    fig = plt.figure()\n",
    "    ax = fig.gca()\n",
    "    \n",
    "    plt.plot (arrayEastNorth[:,0], arrayEastNorth[:,1], 'bo', label='raw')\n",
    "    plt.plot (arrayResampleEastNorth[:,0], arrayResampleEastNorth[:,1], 'k-', label='resampling')\n",
    "    plt.legend()\n",
    "    \n",
    "    plt.axis('equal')\n",
    "    plt.grid(True)\n",
    "    \n",
    "    plt.xlabel('East [m]')\n",
    "    plt.ylabel('North [m]')\n",
    "    \n",
    "    plt.show()    "
   ]
  },
  {
   "cell_type": "code",
   "execution_count": 14,
   "metadata": {},
   "outputs": [
    {
     "data": {
      "image/png": "[encoded data removed]",
      "text/plain": [
       "<Figure size 432x288 with 1 Axes>"
      ]
     },
     "metadata": {
      "needs_background": "light"
     },
     "output_type": "display_data"
    }
   ],
   "source": [
    "# Analysis - Distance to raw data\n",
    "if bCfg_SmoothingDebug == True:\n",
    "    fig = plt.figure()\n",
    "    ax = fig.gca()\n",
    "    \n",
    "    plt.plot(arrayKnotsEast, arrayKnotsEast*0, 'ro', label='Knots')\n",
    "    plt.plot(arrayArclength, arrayArclength*0+0.5, 'b.', label='Raw parameters')\n",
    "    plt.plot(arrayResampleArclength, arrayResampleArclength*0+1, 'm.', label='Resample parameters')\n",
    "\n",
    "    plt.legend()\n",
    "    \n",
    "    plt.grid(True)\n",
    "    \n",
    "    plt.xlabel('Parameters')    \n",
    "    \n",
    "    plt.show()"
   ]
  },
  {
   "cell_type": "code",
   "execution_count": 15,
   "metadata": {},
   "outputs": [
    {
     "data": {
      "image/png": "[encoded data removed]",
      "text/plain": [
       "<Figure size 432x288 with 1 Axes>"
      ]
     },
     "metadata": {
      "needs_background": "light"
     },
     "output_type": "display_data"
    }
   ],
   "source": [
    "# Analysis - Distance to raw data\n",
    "if bCfg_SmoothingDebug == True:\n",
    "    fig = plt.figure()\n",
    "    ax = fig.gca()\n",
    "    \n",
    "    plt.plot (arrayArclength, arrayDistanceError, 'rx-', label='distance error')    \n",
    "    plt.legend()\n",
    "    \n",
    "    plt.grid(True)\n",
    "    \n",
    "    plt.xlabel('Arc lenth [m]')\n",
    "    plt.ylabel('Error [m]')\n",
    "    \n",
    "    plt.show()"
   ]
  },
  {
   "cell_type": "code",
   "execution_count": 16,
   "metadata": {},
   "outputs": [
    {
     "data": {
      "image/png": "[encoded data removed]",
      "text/plain": [
       "<Figure size 432x288 with 1 Axes>"
      ]
     },
     "metadata": {
      "needs_background": "light"
     },
     "output_type": "display_data"
    }
   ],
   "source": [
    "# Analysis - Heading\n",
    "if bCfg_SmoothingDebug == True:\n",
    "    fig = plt.figure()\n",
    "    ax = fig.gca()\n",
    "    \n",
    "    plt.plot (arrayResampleArclength, arrayResampleHeading, 'ro-', label='Heading')        \n",
    "    \n",
    "    plt.legend()\n",
    "    \n",
    "    plt.grid(True)\n",
    "    \n",
    "    plt.xlabel('Arc lenth [m]')\n",
    "    plt.ylabel('Heading [deg]')\n",
    "    \n",
    "    plt.show()\n"
   ]
  },
  {
   "cell_type": "code",
   "execution_count": 17,
   "metadata": {},
   "outputs": [
    {
     "data": {
      "image/png": "[encoded data removed]",
      "text/plain": [
       "<Figure size 432x288 with 1 Axes>"
      ]
     },
     "metadata": {
      "needs_background": "light"
     },
     "output_type": "display_data"
    }
   ],
   "source": [
    "# Analysis - Curvature\n",
    "if bCfg_SmoothingDebug == True:\n",
    "    fig = plt.figure()\n",
    "    ax = fig.gca()\n",
    "        \n",
    "    plt.plot (arrayResampleArclength, arrayResampleCurvature, 'bx-', label='Smoothed curvature')    \n",
    "    \n",
    "    plt.legend()\n",
    "    \n",
    "    plt.grid(True)\n",
    "    \n",
    "    plt.xlabel('Arc lenth [m]')\n",
    "    plt.ylabel('Curvature')\n",
    "    \n",
    "    plt.show()"
   ]
  },
  {
   "cell_type": "markdown",
   "metadata": {},
   "source": [
    "## 4. Export OSM file"
   ]
  },
  {
   "cell_type": "markdown",
   "metadata": {},
   "source": [
    "### Numpy array conversion    "
   ]
  },
  {
   "cell_type": "code",
   "execution_count": 18,
   "metadata": {},
   "outputs": [
    {
     "name": "stdout",
     "output_type": "stream",
     "text": [
      "[3. Export] Construction of list from np array\n"
     ]
    }
   ],
   "source": [
    "# Numpy array conversion    \n",
    "if bCfg_ExportDebug:\n",
    "    print('[3. Export] Construction of list from np array')\n",
    "\n",
    "ListResampleEastNorth = arrayResampleEastNorth.tolist()\n",
    "ListResampleHeading = arrayResampleHeading.tolist()\n",
    "ListResampleCurvature = arrayResampleCurvature.tolist()"
   ]
  },
  {
   "cell_type": "markdown",
   "metadata": {},
   "source": [
    "### Coordinate conversion (ENU -> WGS84)"
   ]
  },
  {
   "cell_type": "code",
   "execution_count": 19,
   "metadata": {},
   "outputs": [
    {
     "name": "stdout",
     "output_type": "stream",
     "text": [
      "[3. Export] Coordinate conversion (ENU -> WGS84)\n"
     ]
    }
   ],
   "source": [
    "# Coordinate conversion (ENU -> WGS84)\n",
    "if bCfg_ExportDebug:\n",
    "    print('[3. Export] Coordinate conversion (ENU -> WGS84)')\n",
    "\n",
    "RefLatLon = ListLatLon[0]\n",
    "ListResampleLatLon = []\n",
    "for iterResampleEastNorth in ListResampleEastNorth:\n",
    "    ListResampleLatLon.append(cartesianToWgs84(RefLatLon,iterResampleEastNorth))"
   ]
  },
  {
   "cell_type": "markdown",
   "metadata": {},
   "source": [
    "### Update routing results to xml"
   ]
  },
  {
   "cell_type": "code",
   "execution_count": 20,
   "metadata": {},
   "outputs": [
    {
     "name": "stdout",
     "output_type": "stream",
     "text": [
      "[3. Export] Update smoothing results to xml\n"
     ]
    }
   ],
   "source": [
    "# Update smoothing results to xml\n",
    "if bCfg_ExportDebug:\n",
    "    print('[3. Export] Update smoothing results to xml')\n",
    "\n",
    "root_export = ET.Element(\"osm\")\n",
    "root_export.set(\"version\", \"0.6\")\n",
    "\n",
    "# Node construction\n",
    "for nodeID, nodeLatLon in enumerate(ListResampleLatLon):        \n",
    "    nodeEle = ET.SubElement(root_export, \"node\", {\"id\": str(nodeID+1), \"lat\": str(nodeLatLon[0]), \"lon\" :str(nodeLatLon[1]), \"version\":\"1\"})    \n",
    "    if bCfg_is_export_heading_curvature_info:\n",
    "        ET.SubElement(nodeEle, \"tag\", {\"k\":\"heading\", \"v\":str(ListResampleHeading[nodeID])})\n",
    "        ET.SubElement(nodeEle, \"tag\", {\"k\":\"curvature\", \"v\":str(ListResampleCurvature[nodeID])})    \n",
    "\n",
    "# Way consruction\n",
    "wayEle = ET.SubElement(root_export, \"way\", {\"id\": str(1), \"version\":\"1\"})    \n",
    "for nodeID, nodeLatLon in enumerate(ListResampleLatLon):\n",
    "    ET.SubElement(wayEle, \"nd\", {\"ref\":str(nodeID+1)})"
   ]
  },
  {
   "cell_type": "markdown",
   "metadata": {},
   "source": [
    "### Export osm file"
   ]
  },
  {
   "cell_type": "code",
   "execution_count": 21,
   "metadata": {},
   "outputs": [
    {
     "name": "stdout",
     "output_type": "stream",
     "text": [
      "[3. Export] Export osm file\n",
      "('Complte smoothing! -', '/home/lke/SK-Autopilot/src/setpoint/osmfiles/konkuk_wp_20191810_124227_route_gen.osm')\n"
     ]
    }
   ],
   "source": [
    "# indent function\n",
    "def indent(elem, level=0):\n",
    "    i = \"\\n\" + level*\"  \"\n",
    "    if len(elem):\n",
    "        if not elem.text or not elem.text.strip():\n",
    "            elem.text = i + \"  \"\n",
    "        if not elem.tail or not elem.tail.strip():\n",
    "            elem.tail = i\n",
    "        for elem in elem:\n",
    "            indent(elem, level+1)\n",
    "        if not elem.tail or not elem.tail.strip():\n",
    "            elem.tail = i\n",
    "    else:\n",
    "        if level and (not elem.tail or not elem.tail.strip()):\n",
    "            elem.tail = i\n",
    "\n",
    "\n",
    "# In[44]:\n",
    "\n",
    "# Export smoothed osm file\n",
    "if bCfg_ExportDebug:\n",
    "    print('[3. Export] Export osm file')\n",
    "\n",
    "indent(root_export)\n",
    "tree_export = ET.ElementTree(root_export)    \n",
    "tree_export.write(OutputOsmPath)\n",
    "print('Complte smoothing! -', OutputOsmPath)"
   ]
  }
 ],
 "metadata": {
  "kernelspec": {
   "display_name": "Python 2",
   "language": "python",
   "name": "python2"
  },
  "language_info": {
   "codemirror_mode": {
    "name": "ipython",
    "version": 2
   },
   "file_extension": ".py",
   "mimetype": "text/x-python",
   "name": "python",
   "nbconvert_exporter": "python",
   "pygments_lexer": "ipython2",
   "version": "2.7.16"
  }
 },
 "nbformat": 4,
 "nbformat_minor": 2
}
